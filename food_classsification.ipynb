{
  "nbformat": 4,
  "nbformat_minor": 0,
  "metadata": {
    "colab": {
      "name": "food classsification.ipynb",
      "provenance": [],
      "collapsed_sections": [],
      "mount_file_id": "1F5St277lgOuGoNzCxdRhTTDHWOQMTPBB",
      "authorship_tag": "ABX9TyMiLyfq9FPVcr0bQIerXx/p",
      "include_colab_link": true
    },
    "kernelspec": {
      "name": "python3",
      "display_name": "Python 3"
    },
    "accelerator": "GPU"
  },
  "cells": [
    {
      "cell_type": "markdown",
      "metadata": {
        "id": "view-in-github",
        "colab_type": "text"
      },
      "source": [
        "<a href=\"https://colab.research.google.com/github/undisputedcoder/Fast-Food-Convolutional-Neural-Network/blob/main/food_classsification.ipynb\" target=\"_parent\"><img src=\"https://colab.research.google.com/assets/colab-badge.svg\" alt=\"Open In Colab\"/></a>"
      ]
    },
    {
      "cell_type": "markdown",
      "metadata": {
        "id": "2Qlps2zDyz_F"
      },
      "source": [
        "# **Convulational Neural Network**\r\n",
        "A neural network using Tensorflow will be created to identify certain images of food and check if it can classify the food correctly. \r\n",
        "\r\n",
        "Note: To train the network faster make sure to change the runtime type to GPU."
      ]
    },
    {
      "cell_type": "markdown",
      "metadata": {
        "id": "_zAVbsNotpJb"
      },
      "source": [
        "All the required libraries are imported."
      ]
    },
    {
      "cell_type": "code",
      "metadata": {
        "id": "ozdxibLaNYyD"
      },
      "source": [
        "import os\r\n",
        "import PIL\r\n",
        "import PIL.Image\r\n",
        "import matplotlib.pyplot as plt\r\n",
        "\r\n",
        "from tensorflow import keras\r\n",
        "from tensorflow.keras import layers\r\n",
        "from tensorflow.keras.models import Sequential"
      ],
      "execution_count": null,
      "outputs": []
    },
    {
      "cell_type": "code",
      "metadata": {
        "colab": {
          "base_uri": "https://localhost:8080/"
        },
        "id": "E02CCBS6I1FW",
        "outputId": "2eed969d-e5e9-4941-9e3e-c2a44ad1bff7"
      },
      "source": [
        "from google.colab import drive\n",
        "drive.mount('/content/drive')"
      ],
      "execution_count": null,
      "outputs": [
        {
          "output_type": "stream",
          "text": [
            "Drive already mounted at /content/drive; to attempt to forcibly remount, call drive.mount(\"/content/drive\", force_remount=True).\n"
          ],
          "name": "stdout"
        }
      ]
    },
    {
      "cell_type": "markdown",
      "metadata": {
        "id": "BnS3QLTuuJsT"
      },
      "source": [
        "Open the dataset located and create an array of the classes that will be used for classification. "
      ]
    },
    {
      "cell_type": "code",
      "metadata": {
        "id": "tFHmXUplO71F"
      },
      "source": [
        "import pathlib\r\n",
        "\r\n",
        "data_dir = pathlib.Path(\"/content/drive/MyDrive/food\")\r\n",
        "\r\n",
        "CLASSES = [\"pizza\", \"hot dog\", \"taco\"]"
      ],
      "execution_count": null,
      "outputs": []
    },
    {
      "cell_type": "markdown",
      "metadata": {
        "id": "W_fcg_RWt5AD"
      },
      "source": [
        "The main parameters are defined."
      ]
    },
    {
      "cell_type": "code",
      "metadata": {
        "id": "MnKSOlKf0u7h"
      },
      "source": [
        "img_size = 180\r\n",
        "batch = 32"
      ],
      "execution_count": null,
      "outputs": []
    },
    {
      "cell_type": "markdown",
      "metadata": {
        "id": "DqBoBZZjupNk"
      },
      "source": [
        "The dataset is split into training and validation datasets using an 80-20 split meaning 80% of the images will be used for training and the remaining 20% for validation."
      ]
    },
    {
      "cell_type": "code",
      "metadata": {
        "colab": {
          "base_uri": "https://localhost:8080/"
        },
        "id": "awrJf4UbRU19",
        "outputId": "8928bf1d-5266-4175-cbe3-734d590cd2c5"
      },
      "source": [
        "import tensorflow as tf\r\n",
        "\r\n",
        "train_ds = tf.keras.preprocessing.image_dataset_from_directory(\r\n",
        "  data_dir,\r\n",
        "  validation_split=0.2,\r\n",
        "  subset=\"training\",\r\n",
        "  seed=123,\r\n",
        "  image_size=(img_size, img_size),\r\n",
        "  batch_size=batch)\r\n",
        "\r\n",
        "val_ds = tf.keras.preprocessing.image_dataset_from_directory(\r\n",
        "  data_dir,\r\n",
        "  validation_split=0.2,\r\n",
        "  subset=\"validation\",\r\n",
        "  seed=123,\r\n",
        "  image_size=(img_size, img_size),\r\n",
        "  batch_size=batch)\r\n",
        "\r\n",
        "class_names = train_ds.class_names"
      ],
      "execution_count": null,
      "outputs": [
        {
          "output_type": "stream",
          "text": [
            "Found 1129 files belonging to 3 classes.\n",
            "Using 904 files for training.\n",
            "Found 1129 files belonging to 3 classes.\n",
            "Using 225 files for validation.\n"
          ],
          "name": "stdout"
        }
      ]
    },
    {
      "cell_type": "markdown",
      "metadata": {
        "id": "x3QSwXSXvLwA"
      },
      "source": [
        "# **Create the Model**"
      ]
    },
    {
      "cell_type": "markdown",
      "metadata": {
        "id": "VRkIV2ubvddN"
      },
      "source": [
        "All the images in the dataset are converted to the same size depending on the value of img_size. Data augmentation is applied to increase the total number of images used for training and improve the ability to generalise better. "
      ]
    },
    {
      "cell_type": "code",
      "metadata": {
        "id": "e5YOb96nLFQa"
      },
      "source": [
        "import keras\r\n",
        "\r\n",
        "data_augmentation = keras.Sequential(\r\n",
        "  [\r\n",
        "    layers.experimental.preprocessing.RandomFlip(\"horizontal_and_vertical\", input_shape=(img_size, img_size, 3)),\r\n",
        "    layers.experimental.preprocessing.RandomRotation(0.2),\r\n",
        "    layers.experimental.preprocessing.RandomZoom(0.2),\r\n",
        "  ]\r\n",
        ")"
      ],
      "execution_count": null,
      "outputs": []
    },
    {
      "cell_type": "markdown",
      "metadata": {
        "id": "Qc54UrXlv_r1"
      },
      "source": [
        "The actual model is created consisting of three hidden layers using a 3x3 filter and 2x2 max pooling filter. A dropout layer and flatten layer are included as well. The output layer is a dense layer with three neurons which corresponds to the number of classes for classification. "
      ]
    },
    {
      "cell_type": "code",
      "metadata": {
        "id": "lixUdfyvf1sp"
      },
      "source": [
        "num_classes = 3\r\n",
        "\r\n",
        "model = tf.keras.Sequential([\r\n",
        "  data_augmentation,\r\n",
        "  layers.experimental.preprocessing.Rescaling(1./255),\r\n",
        "  layers.Conv2D(16, (3,3), activation='relu'),\r\n",
        "  layers.MaxPooling2D(2,2),\r\n",
        "  layers.Conv2D(32, (3,3), activation='relu'),\r\n",
        "  layers.MaxPooling2D(2,2),\r\n",
        "  layers.Conv2D(64, (3,3) , activation='relu'),\r\n",
        "  layers.MaxPooling2D(2,2),\r\n",
        "  layers.Dropout(0.1),\r\n",
        "  layers.Flatten(),\r\n",
        "  layers.Dense(128, activation='relu'),\r\n",
        "  layers.Dense(num_classes)\r\n",
        "])"
      ],
      "execution_count": null,
      "outputs": []
    },
    {
      "cell_type": "markdown",
      "metadata": {
        "id": "RrXbXQuMwvj4"
      },
      "source": [
        "The model is compiled."
      ]
    },
    {
      "cell_type": "code",
      "metadata": {
        "id": "mMBNElMAf6H2"
      },
      "source": [
        "model.compile(\r\n",
        "  optimizer='adam',\r\n",
        "  loss=tf.losses.SparseCategoricalCrossentropy(from_logits=True),\r\n",
        "  metrics=['accuracy'])"
      ],
      "execution_count": null,
      "outputs": []
    },
    {
      "cell_type": "markdown",
      "metadata": {
        "id": "eyS2O1-1xHFR"
      },
      "source": [
        "# **Train the model**\r\n",
        "The model is trained with the defined number of epochs. The higher the epochs the better the accuracy of the model will be but be sure to avoid overfitting. "
      ]
    },
    {
      "cell_type": "code",
      "metadata": {
        "id": "bpiEpDVGf75F"
      },
      "source": [
        "EPOCHS = 13\r\n",
        "\r\n",
        "history = model.fit(\r\n",
        "  train_ds,\r\n",
        "  validation_data=val_ds,\r\n",
        "  epochs=EPOCHS\r\n",
        ")\r\n",
        "\r\n",
        "acc = history.history['accuracy']\r\n",
        "val_acc = history.history['val_accuracy']\r\n",
        "\r\n",
        "loss = history.history['loss']\r\n",
        "val_loss = history.history['val_loss']"
      ],
      "execution_count": null,
      "outputs": []
    },
    {
      "cell_type": "markdown",
      "metadata": {
        "id": "-aASzWjXxbu7"
      },
      "source": [
        "# **Plot the accuracy and loss**\r\n",
        "The accuracy and loss of the training and validation dataset is plotted to easily visualise the performance of the network and make decisions for which parameters or hyperparameters to tune for the optimum results."
      ]
    },
    {
      "cell_type": "code",
      "metadata": {
        "id": "yRIlevrBjs0O",
        "colab": {
          "base_uri": "https://localhost:8080/",
          "height": 499
        },
        "outputId": "e0468d4d-a5b4-486f-93eb-4b0c174cbefd"
      },
      "source": [
        "epochs_range = range(EPOCHS)\r\n",
        "\r\n",
        "plt.figure(figsize=(8, 8))\r\n",
        "plt.subplot(1, 2, 1)\r\n",
        "plt.plot(epochs_range, acc, label='Training Accuracy')\r\n",
        "plt.plot(epochs_range, val_acc, label='Validation Accuracy')\r\n",
        "plt.legend(loc='lower right')\r\n",
        "plt.title('Training and Validation Accuracy')\r\n",
        "\r\n",
        "plt.subplot(1, 2, 2)\r\n",
        "plt.plot(epochs_range, loss, label='Training Loss')\r\n",
        "plt.plot(epochs_range, val_loss, label='Validation Loss')\r\n",
        "plt.legend(loc='upper right')\r\n",
        "plt.title('Training and Validation Loss')\r\n",
        "plt.show()"
      ],
      "execution_count": null,
      "outputs": [
        {
          "output_type": "display_data",
          "data": {
            "image/png": "[encoded data removed]",
            "text/plain": [
              "<Figure size 576x576 with 2 Axes>"
            ]
          },
          "metadata": {
            "tags": [],
            "needs_background": "light"
          }
        }
      ]
    },
    {
      "cell_type": "markdown",
      "metadata": {
        "id": "HoiXLSx3x8Nh"
      },
      "source": [
        "# **Prediction**\r\n",
        "The model is used to make a prediction with an image not seen by the network to check the accuracy of the network in classifying the image to the appropriate label or class. "
      ]
    },
    {
      "cell_type": "code",
      "metadata": {
        "id": "mf2MsKay4Kdf",
        "colab": {
          "base_uri": "https://localhost:8080/"
        },
        "outputId": "60c96221-daee-407e-fe65-e5fabcaa40a9"
      },
      "source": [
        "import numpy as np\r\n",
        "\r\n",
        "hotdog_path = pathlib.Path(\"/content/drive/MyDrive/test0.jpg\")\r\n",
        "\r\n",
        "img = keras.preprocessing.image.load_img(\r\n",
        "    hotdog_path, target_size=(img_size, img_size)\r\n",
        ")\r\n",
        "img_array = keras.preprocessing.image.img_to_array(img)\r\n",
        "img_array = tf.expand_dims(img_array, 0) # Create a batch\r\n",
        "\r\n",
        "predictions = model.predict(img_array)\r\n",
        "score = tf.nn.softmax(predictions[0])\r\n",
        "\r\n",
        "print(\r\n",
        "    \"This image most likely belongs to {} with a {:.2f} percent confidence.\"\r\n",
        "    .format(class_names[np.argmax(score)], 100 * np.max(score))\r\n",
        ")"
      ],
      "execution_count": null,
      "outputs": [
        {
          "output_type": "stream",
          "text": [
            "This image most likely belongs to hot dog with a 50.97 percent confidence.\n"
          ],
          "name": "stdout"
        }
      ]
    }
  ]
}